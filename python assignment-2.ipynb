{
 "cells": [
  {
   "cell_type": "markdown",
   "id": "d8254c00",
   "metadata": {},
   "source": [
    "# PYTHON ASSIGNMENT_2\n"
   ]
  },
  {
   "cell_type": "markdown",
   "id": "f9ae028a",
   "metadata": {},
   "source": [
    "# QUESTION_1\n",
    "Create the pattern below pattern using nested for loop in python.\n",
    "*\n",
    "**\n",
    "***\n",
    "****\n",
    "*****\n",
    "****\n",
    "***\n",
    "**\n",
    "*"
   ]
  },
  {
   "cell_type": "code",
   "execution_count": 1,
   "id": "c4b49562",
   "metadata": {},
   "outputs": [
    {
     "name": "stdout",
     "output_type": "stream",
     "text": [
      "\n",
      "\n",
      "* \n",
      "\n",
      "* * \n",
      "\n",
      "* * * \n",
      "\n",
      "* * * * \n",
      "\n",
      "* * * * * \n",
      "\n",
      "* * * * \n",
      "\n",
      "* * * \n",
      "\n",
      "* * \n",
      "\n",
      "* \n",
      "\n"
     ]
    }
   ],
   "source": [
    "n=6\n",
    "for i in range(n):\n",
    "    for j in range(i):\n",
    "        print(\"*\", end= \" \")\n",
    "    print(\"\\n\")  \n",
    "for k in range(4,0,-1):\n",
    "    for i in range (k):\n",
    "        print(\"*\",end= \" \")\n",
    "    print(\"\\n\")"
   ]
  },
  {
   "cell_type": "markdown",
   "id": "af535358",
   "metadata": {},
   "source": [
    "# QUESTION_2\n",
    "\n",
    "Write a python program to reverse a word after accepting the input from the user.\n",
    "sample output:\n",
    "    input word: ineuron\n",
    "    output:    norueni"
   ]
  },
  {
   "cell_type": "code",
   "execution_count": 2,
   "id": "d1a8a914",
   "metadata": {},
   "outputs": [
    {
     "name": "stdout",
     "output_type": "stream",
     "text": [
      "Input word: ineuron\n"
     ]
    },
    {
     "data": {
      "text/plain": [
       "'norueni'"
      ]
     },
     "execution_count": 2,
     "metadata": {},
     "output_type": "execute_result"
    }
   ],
   "source": [
    "word= input('Input word: ')\n",
    "word[::-1]"
   ]
  },
  {
   "cell_type": "code",
   "execution_count": null,
   "id": "ee3c05fc",
   "metadata": {},
   "outputs": [],
   "source": []
  }
 ],
 "metadata": {
  "kernelspec": {
   "display_name": "Python 3",
   "language": "python",
   "name": "python3"
  },
  "language_info": {
   "codemirror_mode": {
    "name": "ipython",
    "version": 3
   },
   "file_extension": ".py",
   "mimetype": "text/x-python",
   "name": "python",
   "nbconvert_exporter": "python",
   "pygments_lexer": "ipython3",
   "version": "3.8.8"
  }
 },
 "nbformat": 4,
 "nbformat_minor": 5
}
